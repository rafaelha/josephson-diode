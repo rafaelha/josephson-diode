{
  "cells": [
    {
      "cell_type": "code",
      "execution_count": null,
      "metadata": {
        "collapsed": false
      },
      "outputs": [],
      "source": [
        "%matplotlib inline"
      ]
    },
    {
      "cell_type": "markdown",
      "metadata": {},
      "source": [
        "\n",
        "# Maxwell 3D: Magnetostatic Mutual Inductance Analysis\n"
      ]
    },
    {
      "cell_type": "code",
      "execution_count": 1,
      "metadata": {
        "collapsed": false
      },
      "outputs": [],
      "source": [
        "from pyaedt import Maxwell3d\n",
        "from pyaedt import generate_unique_project_name\n",
        "import os"
      ]
    },
    {
      "cell_type": "markdown",
      "metadata": {},
      "source": [
        "## Launch AEDT\n",
        "Launch AEDT 2022 R2 in graphical mode.\n",
        "\n"
      ]
    },
    {
      "cell_type": "code",
      "execution_count": 3,
      "metadata": {
        "collapsed": false
      },
      "outputs": [
        {
          "name": "stdout",
          "output_type": "stream",
          "text": [
            "pyaedt INFO: using existing logger.\n",
            "pyaedt INFO: Launching PyAEDT outside AEDT with CPython and PythonNET.\n",
            "pyaedt INFO: AEDT installation Path C:\\Program Files\\AnsysEM\\v222\\Win64.\n",
            "pyaedt INFO: Launching AEDT with module PythonNET.\n",
            "pyaedt INFO: Ansoft.ElectronicsDesktop.2022.2 Started with process ID 27580.\n",
            "pyaedt INFO: pyaedt v0.6.28\n",
            "pyaedt INFO: Python version 3.10.5 | packaged by conda-forge | (main, Jun 14 2022, 06:57:19) [MSC v.1929 64 bit (AMD64)]\n",
            "pyaedt INFO: Project Project_QJQ has been created.\n",
            "pyaedt INFO: No design is present. Inserting a new design.\n",
            "pyaedt INFO: Added design 'Maxwell 3D_CFY' of type Maxwell 3D.\n",
            "pyaedt INFO: Aedt Objects initialized\n",
            "pyaedt INFO: Variable Manager initialized\n",
            "pyaedt INFO: Design Loaded\n",
            "pyaedt INFO: Successfully loaded project materials !\n",
            "pyaedt INFO: Materials Loaded\n",
            "pyaedt INFO: aedt file load time 0.0020012855529785156\n"
          ]
        }
      ],
      "source": [
        "m3d = Maxwell3d(projectname=generate_unique_project_name(), specified_version=\"2022.2\", new_desktop_session=True, non_graphical=False)"
      ]
    },
    {
      "cell_type": "markdown",
      "metadata": {},
      "source": [
        "## Set up Maxwell solution\n",
        "Set up the Maxwell solution to DC.\n",
        "\n"
      ]
    },
    {
      "cell_type": "code",
      "execution_count": 4,
      "metadata": {
        "collapsed": false
      },
      "outputs": [],
      "source": [
        "m3d.solution_type = m3d.SOLUTIONS.Maxwell3d.Magnetostatic\n",
        "m3d.modeler.model_units = 'um'"
      ]
    },
    {
      "cell_type": "code",
      "execution_count": 79,
      "metadata": {
        "collapsed": false
      },
      "outputs": [
        {
          "name": "stdout",
          "output_type": "stream",
          "text": [
            "pyaedt INFO: Deleted 3 Objects: Air,Wire1,Wire2.\n"
          ]
        }
      ],
      "source": [
        "m3d.modeler.delete() # delete all objects to start fresh\n",
        "for setup in m3d.setup_names:\n",
        "    m3d.delete_setup(setup)\n",
        "length = 50\n",
        "width = 5\n",
        "thickness = 5\n",
        "material = 'copper'\n",
        "air = m3d.modeler.create_box([-50, -50, 0], [100, 100, length], name=\"Air\", matname='air')\n",
        "wire1 = m3d.modeler.create_box([-0.75*width - width/2, 0, 0], [width, thickness, length], name=\"Wire1\", matname=material)\n",
        "wire2 = m3d.modeler.create_box([1.5/2*width - width/2, 0, 0], [width, thickness, length], name=\"Wire2\", matname=material)\n",
        "\n",
        "# m3d.modeler.unite([wire1,wire2])\n",
        "\n",
        "c1top = m3d.assign_current(wire1.bottom_face_z, 5, name='c1top')\n",
        "c1bottom = m3d.assign_current(wire1.top_face_z, 5, swap_direction=True, name='c1bottom')\n",
        "\n",
        "c2top = m3d.assign_current(wire2.bottom_face_z, 5, name='c2top')\n",
        "c2bottom = m3d.assign_current(wire2.top_face_z, 5, swap_direction=True, name='c2bottom')\n",
        "# wire1.rotate(cs_axis='z', angle=45)\n",
        "\n",
        "m3d.assign_matrix(['c1top', 'c2top'], matrix_name='current_matrix')\n",
        "solSetup = m3d.create_setup(setupname='Sol1', props={'MinimumPasses': 3})\n",
        "solSetup.props['MinimumPasses'] = 3\n",
        "# solSetup.available_properties"
      ]
    },
    {
      "cell_type": "code",
      "execution_count": 101,
      "metadata": {},
      "outputs": [
        {
          "data": {
            "text/plain": [
              "True"
            ]
          },
          "execution_count": 101,
          "metadata": {},
          "output_type": "execute_result"
        }
      ],
      "source": [
        "m3d.create_output_variable('kappa','current_matrix.CplCoef(c2top,c1top)')\n",
        "m3d.create_output_variable('L1','current_matrix.L(c1top,c1top)')\n",
        "m3d.create_output_variable('L2','current_matrix.L(c2top,c2top)')\n",
        "m3d.create_output_variable('M','current_matrix.L(c1top,c2top)')"
      ]
    },
    {
      "cell_type": "code",
      "execution_count": 108,
      "metadata": {},
      "outputs": [
        {
          "name": "stdout",
          "output_type": "stream",
          "text": [
            "k= 0.606471766866992\n",
            "L1= 3.2418427969896603e-11 , L2= 3.25098720413542e-11\n",
            "M= 1.96885708870901e-11\n",
            "current that achieves one flux quantum:  0.10502711778742563 mA\n",
            "Required min trackwidth:  0.5251355889371282 um\n"
          ]
        }
      ],
      "source": [
        "kappa = m3d.get_output_variable('kappa')\n",
        "L1 = m3d.get_output_variable('L1')\n",
        "L2 = m3d.get_output_variable('L2')\n",
        "M = m3d.get_output_variable('M')\n",
        "print('k=',kappa)\n",
        "print('L1=',L1,', L2=',L2)\n",
        "print('M=',M)\n",
        "h = 6.62607015e-34  # m2 kg / s\n",
        "e = 1.60217663e-19 # C\n",
        "fluxquant = h / (2 * e)\n",
        "I_needed = fluxquant / M # A\n",
        "print('current that achieves one flux quantum: ', I_needed * 1000, 'mA')\n",
        "\n",
        "jcNb = 2e5 # A/cm^2\n",
        "Nb_thickness = 100e-9 * 100 # cm\n",
        "track_width = I_needed / jcNb / Nb_thickness #cm\n",
        "print('Required min trackwidth: ', track_width*1e4, 'um')"
      ]
    },
    {
      "cell_type": "code",
      "execution_count": null,
      "metadata": {
        "collapsed": false
      },
      "outputs": [],
      "source": [
        "m3d.save_project()\n",
        "m3d.release_desktop(close_projects=True, close_desktop=True)"
      ]
    }
  ],
  "metadata": {
    "kernelspec": {
      "display_name": "Python 3.10.5 ('metal')",
      "language": "python",
      "name": "python3"
    },
    "language_info": {
      "codemirror_mode": {
        "name": "ipython",
        "version": 3
      },
      "file_extension": ".py",
      "mimetype": "text/x-python",
      "name": "python",
      "nbconvert_exporter": "python",
      "pygments_lexer": "ipython3",
      "version": "3.10.5"
    },
    "vscode": {
      "interpreter": {
        "hash": "94e3ab23d335a4c481f9f9737852d12e4658afdc57ba1373b7376e3649996374"
      }
    }
  },
  "nbformat": 4,
  "nbformat_minor": 0
}
